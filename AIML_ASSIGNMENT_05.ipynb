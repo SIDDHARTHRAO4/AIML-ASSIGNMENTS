{
 "cells": [
  {
   "cell_type": "code",
   "execution_count": 1,
   "metadata": {},
   "outputs": [
    {
     "name": "stdout",
     "output_type": "stream",
     "text": [
      "Description of the data:\n",
      "          longitude      latitude  housing_median_age   total_rooms  \\\n",
      "count  20640.000000  20640.000000        20640.000000  20640.000000   \n",
      "mean    -119.569704     35.631861           28.639486   2635.763081   \n",
      "std        2.003532      2.135952           12.585558   2181.615252   \n",
      "min     -124.350000     32.540000            1.000000      2.000000   \n",
      "25%     -121.800000     33.930000           18.000000   1447.750000   \n",
      "50%     -118.490000     34.260000           29.000000   2127.000000   \n",
      "75%     -118.010000     37.710000           37.000000   3148.000000   \n",
      "max     -114.310000     41.950000           52.000000  39320.000000   \n",
      "\n",
      "       total_bedrooms    population    households  median_income  \\\n",
      "count    20433.000000  20640.000000  20640.000000   20640.000000   \n",
      "mean       537.870553   1425.476744    499.539680       3.870671   \n",
      "std        421.385070   1132.462122    382.329753       1.899822   \n",
      "min          1.000000      3.000000      1.000000       0.499900   \n",
      "25%        296.000000    787.000000    280.000000       2.563400   \n",
      "50%        435.000000   1166.000000    409.000000       3.534800   \n",
      "75%        647.000000   1725.000000    605.000000       4.743250   \n",
      "max       6445.000000  35682.000000   6082.000000      15.000100   \n",
      "\n",
      "       median_house_value  \n",
      "count        20640.000000  \n",
      "mean        206855.816909  \n",
      "std         115395.615874  \n",
      "min          14999.000000  \n",
      "25%         119600.000000  \n",
      "50%         179700.000000  \n",
      "75%         264725.000000  \n",
      "max         500001.000000  \n"
     ]
    },
    {
     "name": "stderr",
     "output_type": "stream",
     "text": [
      "/tmp/ipykernel_13776/4122804058.py:1: DeprecationWarning: \n",
      "Pyarrow will become a required dependency of pandas in the next major release of pandas (pandas 3.0),\n",
      "(to allow more performant data types, such as the Arrow string type, and better interoperability with other libraries)\n",
      "but was not found to be installed on your system.\n",
      "If this would cause problems for you,\n",
      "please provide us feedback at https://github.com/pandas-dev/pandas/issues/54466\n",
      "        \n",
      "  import pandas as pd\n"
     ]
    }
   ],
   "source": [
    "import pandas as pd\n",
    "# Read the data with pandas\n",
    "data = pd.read_csv('/workspaces/AIML-ASSIGNMENTS/housing.csv')\n",
    "\n",
    "# Describe the data\n",
    "data_description = data.describe()\n",
    "print(\"Description of the data:\")\n",
    "print(data_description)"
   ]
  },
  {
   "cell_type": "code",
   "execution_count": 2,
   "metadata": {},
   "outputs": [
    {
     "name": "stdout",
     "output_type": "stream",
     "text": [
      "\n",
      "Data types of each column:\n",
      "longitude             float64\n",
      "latitude              float64\n",
      "housing_median_age    float64\n",
      "total_rooms           float64\n",
      "total_bedrooms        float64\n",
      "population            float64\n",
      "households            float64\n",
      "median_income         float64\n",
      "median_house_value    float64\n",
      "ocean_proximity        object\n",
      "dtype: object\n"
     ]
    }
   ],
   "source": [
    "# Find data type and shape of each column\n",
    "data_types = data.dtypes\n",
    "print(\"\\nData types of each column:\")\n",
    "print(data_types)\n"
   ]
  },
  {
   "cell_type": "code",
   "execution_count": 3,
   "metadata": {},
   "outputs": [
    {
     "name": "stdout",
     "output_type": "stream",
     "text": [
      "\n",
      "Shape of the data (rows, columns):\n",
      "(20640, 10)\n"
     ]
    }
   ],
   "source": [
    "data_shape = data.shape\n",
    "print(\"\\nShape of the data (rows, columns):\")\n",
    "print(data_shape)"
   ]
  },
  {
   "cell_type": "code",
   "execution_count": 4,
   "metadata": {},
   "outputs": [
    {
     "name": "stdout",
     "output_type": "stream",
     "text": [
      "\n",
      "Null values in the dataset:\n",
      "longitude               0\n",
      "latitude                0\n",
      "housing_median_age      0\n",
      "total_rooms             0\n",
      "total_bedrooms        207\n",
      "population              0\n",
      "households              0\n",
      "median_income           0\n",
      "median_house_value      0\n",
      "ocean_proximity         0\n",
      "dtype: int64\n"
     ]
    }
   ],
   "source": [
    "# Find null values and handle them\n",
    "null_values = data.isnull().sum()\n",
    "print(\"\\nNull values in the dataset:\")\n",
    "print(null_values)"
   ]
  },
  {
   "cell_type": "code",
   "execution_count": 9,
   "metadata": {},
   "outputs": [
    {
     "name": "stdout",
     "output_type": "stream",
     "text": [
      "\n",
      "First few rows of the filled dataset:\n",
      "   longitude  latitude  housing_median_age  total_rooms  total_bedrooms  \\\n",
      "0    -122.23     37.88                41.0        880.0           129.0   \n",
      "1    -122.22     37.86                21.0       7099.0          1106.0   \n",
      "2    -122.24     37.85                52.0       1467.0           190.0   \n",
      "3    -122.25     37.85                52.0       1274.0           235.0   \n",
      "4    -122.25     37.85                52.0       1627.0           280.0   \n",
      "\n",
      "   population  households  median_income  median_house_value ocean_proximity  \n",
      "0       322.0       126.0         8.3252            452600.0        NEAR BAY  \n",
      "1      2401.0      1138.0         8.3014            358500.0        NEAR BAY  \n",
      "2       496.0       177.0         7.2574            352100.0        NEAR BAY  \n",
      "3       558.0       219.0         5.6431            341300.0        NEAR BAY  \n",
      "4       565.0       259.0         3.8462            342200.0        NEAR BAY  \n"
     ]
    }
   ],
   "source": [
    "# Alternatively, fill null values with '0'\n",
    "data_filled = data.fillna(0)\n",
    "# Display the first few rows of the filled dataset\n",
    "print(\"\\nFirst few rows of the filled dataset:\")\n",
    "print(data_filled.head())"
   ]
  },
  {
   "cell_type": "code",
   "execution_count": 14,
   "metadata": {},
   "outputs": [],
   "source": [
    "import pandas as pd\n",
    "from sklearn.preprocessing import MinMaxScaler\n",
    "from sklearn.model_selection import train_test_split\n",
    "from sklearn.linear_model import LinearRegression"
   ]
  },
  {
   "cell_type": "code",
   "execution_count": 20,
   "metadata": {},
   "outputs": [
    {
     "name": "stdout",
     "output_type": "stream",
     "text": [
      "   longitude  latitude  housing_median_age  total_rooms  total_bedrooms  \\\n",
      "0    -122.23     37.88                41.0        880.0           129.0   \n",
      "1    -122.22     37.86                21.0       7099.0          1106.0   \n",
      "2    -122.24     37.85                52.0       1467.0           190.0   \n",
      "3    -122.25     37.85                52.0       1274.0           235.0   \n",
      "4    -122.25     37.85                52.0       1627.0           280.0   \n",
      "\n",
      "   population  households  median_income  median_house_value ocean_proximity  \n",
      "0       322.0       126.0         8.3252            452600.0        NEAR BAY  \n",
      "1      2401.0      1138.0         8.3014            358500.0        NEAR BAY  \n",
      "2       496.0       177.0         7.2574            352100.0        NEAR BAY  \n",
      "3       558.0       219.0         5.6431            341300.0        NEAR BAY  \n",
      "4       565.0       259.0         3.8462            342200.0        NEAR BAY  \n"
     ]
    }
   ],
   "source": [
    "# Load the data into a DataFrame\n",
    "data = pd.read_csv('housing.csv')\n",
    "\n",
    "# Print the first few rows to get a glimpse of the data\n",
    "print(data.head())\n"
   ]
  },
  {
   "cell_type": "code",
   "execution_count": 6,
   "metadata": {},
   "outputs": [
    {
     "name": "stdout",
     "output_type": "stream",
     "text": [
      "   longitude  latitude  housing_median_age  total_rooms  total_bedrooms  \\\n",
      "0    -122.23     37.88                41.0        880.0           129.0   \n",
      "1    -122.22     37.86                21.0       7099.0          1106.0   \n",
      "2    -122.24     37.85                52.0       1467.0           190.0   \n",
      "3    -122.25     37.85                52.0       1274.0           235.0   \n",
      "4    -122.25     37.85                52.0       1627.0           280.0   \n",
      "\n",
      "   population  households  median_income  median_house_value ocean_proximity  \n",
      "0       322.0       126.0         8.3252            452600.0        NEAR BAY  \n",
      "1      2401.0      1138.0         8.3014            358500.0        NEAR BAY  \n",
      "2       496.0       177.0         7.2574            352100.0        NEAR BAY  \n",
      "3       558.0       219.0         5.6431            341300.0        NEAR BAY  \n",
      "4       565.0       259.0         3.8462            342200.0        NEAR BAY  \n",
      "   longitude  latitude  housing_median_age  total_rooms  total_bedrooms  \\\n",
      "0   0.211155  0.567481            0.784314     0.022331        0.019863   \n",
      "1   0.212151  0.565356            0.392157     0.180503        0.171477   \n",
      "2   0.210159  0.564293            1.000000     0.037260        0.029330   \n",
      "3   0.209163  0.564293            1.000000     0.032352        0.036313   \n",
      "4   0.209163  0.564293            1.000000     0.041330        0.043296   \n",
      "\n",
      "   population  households  median_income  median_house_value  \n",
      "0    0.008941    0.020556       0.539668            452600.0  \n",
      "1    0.067210    0.186976       0.538027            358500.0  \n",
      "2    0.013818    0.028943       0.466028            352100.0  \n",
      "3    0.015555    0.035849       0.354699            341300.0  \n",
      "4    0.015752    0.042427       0.230776            342200.0  \n",
      "Model coefficients: [ -429370.97481566  -399919.0310314     59791.74266074  -320592.29154044\n",
      "   773448.14254833 -1364239.82104097   252301.09024554   585367.33104932]\n",
      "Mean squared error: 4837165112.001602\n"
     ]
    }
   ],
   "source": [
    "import pandas as pd\n",
    "from sklearn.preprocessing import MinMaxScaler\n",
    "from sklearn.model_selection import train_test_split\n",
    "from sklearn.linear_model import LinearRegression\n",
    "\n",
    "# Load the data into a DataFrame\n",
    "data = pd.read_csv('/workspaces/AIML-ASSIGNMENTS/housing.csv')\n",
    "\n",
    "# Print the first few rows to get a glimpse of the data\n",
    "print(data.head())\n",
    "\n",
    "# Identify features (predictors) and target variable (response)\n",
    "features = ['longitude', 'latitude', 'housing_median_age', 'total_rooms',\n",
    "            'total_bedrooms', 'population', 'households', 'median_income']\n",
    "target = 'median_house_value'\n",
    "\n",
    "# Normalize the features (excluding the target variable)\n",
    "scaler = MinMaxScaler()\n",
    "data_scaled = scaler.fit_transform(data[features])\n",
    "data_normalized = pd.DataFrame(data_scaled, columns=features)\n",
    "\n",
    "# Combine the normalized features with the original target variable\n",
    "data_normalized = pd.concat([data_normalized, data[target]], axis=1)\n",
    "\n",
    "# Print the first few rows to verify normalization\n",
    "print(data_normalized.head())\n",
    "\n",
    "# Split the normalized data into training and testing sets (default test_size=0.25)\n",
    "X_train, X_test, y_train, y_test = train_test_split(\n",
    "    data_normalized[features],  # Features to split\n",
    "    data_normalized[target],  # Target variable\n",
    "    test_size=0.25,  # Adjust test size if needed\n",
    "    random_state=42  # Set random state for reproducibility\n",
    ")\n",
    "\n",
    "# Create a linear regression model\n",
    "model = LinearRegression()\n",
    "\n",
    "# Train the model using the training data\n",
    "model.fit(X_train, y_train)\n",
    "\n",
    "# Print the coefficients of the model\n",
    "print(\"Model coefficients:\", model.coef_)\n",
    "\n",
    "# Make predictions on the test data\n",
    "predictions = model.predict(X_train)\n",
    "\n",
    "# Print the mean squared error of the predictions\n",
    "print(\"Mean squared error:\", ((y_train - predictions) ** 2).mean())\n"
   ]
  },
  {
   "cell_type": "code",
   "execution_count": null,
   "metadata": {},
   "outputs": [],
   "source": []
  }
 ],
 "metadata": {
  "kernelspec": {
   "display_name": "Python 3",
   "language": "python",
   "name": "python3"
  },
  "language_info": {
   "codemirror_mode": {
    "name": "ipython",
    "version": 3
   },
   "file_extension": ".py",
   "mimetype": "text/x-python",
   "name": "python",
   "nbconvert_exporter": "python",
   "pygments_lexer": "ipython3",
   "version": "3.10.13"
  }
 },
 "nbformat": 4,
 "nbformat_minor": 2
}
